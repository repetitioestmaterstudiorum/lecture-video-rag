{
 "cells": [
  {
   "cell_type": "code",
   "execution_count": null,
   "metadata": {},
   "outputs": [],
   "source": [
    "import os\n",
    "import wget\n",
    "import json\n",
    "from RAG.system import RAGSystem\n",
    "from hyperparameters import merge\n",
    "from dotenv import load_dotenv\n",
    "from qa_datasets import tuning_dataset\n",
    "from tqdm import tqdm"
   ]
  },
  {
   "cell_type": "code",
   "execution_count": null,
   "metadata": {},
   "outputs": [],
   "source": [
    "load_dotenv()\n",
    "DATA_DIR = os.getenv(\"DATA_DIR\")\n",
    "assert DATA_DIR is not None, \"Define DATA_DIR in .env file!\""
   ]
  },
  {
   "cell_type": "code",
   "execution_count": null,
   "metadata": {},
   "outputs": [],
   "source": [
    "rag = RAGSystem(\n",
    "    hypers=merge,\n",
    "    data_dir=DATA_DIR,\n",
    "    random_seed=17,\n",
    ")"
   ]
  },
  {
   "cell_type": "code",
   "execution_count": null,
   "metadata": {},
   "outputs": [],
   "source": [
    "psychology_course_questions = list(filter(lambda qa: qa['course'] ==\n",
    "     'MIT 9.00SC Introduction to Psychology, Fall 2011', tuning_dataset))\n",
    "\n",
    "print(f\"Psychology course questions: {len(psychology_course_questions)}\\n\")\n",
    "first_question = psychology_course_questions[0]\n",
    "print(f\"First question: {json.dumps(first_question, indent=2)}\")"
   ]
  },
  {
   "cell_type": "code",
   "execution_count": null,
   "metadata": {},
   "outputs": [],
   "source": [
    "rag.ask(first_question['question'])"
   ]
  },
  {
   "cell_type": "code",
   "execution_count": null,
   "metadata": {},
   "outputs": [],
   "source": [
    "rag.ask(first_question['question'], force_answer=True)"
   ]
  },
  {
   "cell_type": "code",
   "execution_count": null,
   "metadata": {},
   "outputs": [],
   "source": [
    "videos_to_download = [\n",
    "    {\n",
    "        'url': 'http://www.archive.org/download/MIT9.00SCF11/MIT9_00SCF11_lec01_300k.mp4',\n",
    "        'directory': 'MIT9.00SCF11',\n",
    "        'filename': 'Lecture 1 - Introduction.mp4'\n",
    "    },\n",
    "    {\n",
    "        'url': 'http://www.archive.org/download/MIT9.00SCF11/MIT9_00SCF11_lec02_300k.mp4',\n",
    "        'directory': 'MIT9.00SCF11',\n",
    "        'filename': 'Lecture 2 - Science & Research.mp4'\n",
    "    },\n",
    "    {\n",
    "        'url': 'http://www.archive.org/download/MIT9.00SCF11/MIT9_00SCF11_lec03_300k.mp4',\n",
    "        'directory': 'MIT9.00SCF11',\n",
    "        'filename': 'Lecture 3 - Brain I: Structure and Functions.mp4'\n",
    "    },\n",
    "    {\n",
    "        'url': 'http://www.archive.org/download/MIT9.00SCF11/MIT9_00SCF11_lec04_300k.mp4',\n",
    "        'directory': 'MIT9.00SCF11',\n",
    "        'filename': 'Lecture 4 - Brain II: Methods of Research.mp4'\n",
    "    },\n",
    "    {\n",
    "        'url': 'http://www.archive.org/download/MIT9.00SCF11/MIT9_00SCF11_lec05_300k.mp4',\n",
    "        'directory': 'MIT9.00SCF11',\n",
    "        'filename': 'Lecture 5 - Vision I.mp4'\n",
    "    },\n",
    "    {\n",
    "        'url': 'http://www.archive.org/download/MIT9.00SCF11/MIT9_00SCF11_lec06_300k.mp4',\n",
    "        'directory': 'MIT9.00SCF11',\n",
    "        'filename': 'Lecture 6 - Vision II.mp4'\n",
    "    },\n",
    "    {\n",
    "        'url': 'http://www.archive.org/download/MIT9.00SCF11/MIT9_00SCF11_lec07_300k.mp4',\n",
    "        'directory': 'MIT9.00SCF11',\n",
    "        'filename': 'Lecture 7 - Attention.mp4'\n",
    "    },\n",
    "    {\n",
    "        'url': 'http://www.archive.org/download/MIT9.00SCF11/MIT9_00SCF11_lec08_300k.mp4',\n",
    "        'directory': 'MIT9.00SCF11',\n",
    "        'filename': 'Lecture 8 - Consciousness.mp4'\n",
    "    },\n",
    "]"
   ]
  },
  {
   "cell_type": "code",
   "execution_count": null,
   "metadata": {},
   "outputs": [],
   "source": [
    "VIDEO_DIR_NAME = 'videos'\n",
    "\n",
    "for video in (pbar := tqdm(videos_to_download)):\n",
    "    video_folder = os.path.join(DATA_DIR, VIDEO_DIR_NAME, video['directory'])\n",
    "    if not os.path.exists(video_folder):\n",
    "        os.makedirs(video_folder)\n",
    "    \n",
    "    if not os.path.exists(os.path.join(video_folder, video['filename'])):\n",
    "        pbar.set_description(f\"Downloading {video['filename']} to {video_folder}\")\n",
    "        wget.download(video['url'], out=os.path.join(video_folder, video['filename']))"
   ]
  },
  {
   "cell_type": "code",
   "execution_count": null,
   "metadata": {},
   "outputs": [],
   "source": [
    "videos_to_preprocess = list()\n",
    "for folder in os.listdir(os.path.join(DATA_DIR, VIDEO_DIR_NAME)):\n",
    "    for video in os.listdir(os.path.join(DATA_DIR, VIDEO_DIR_NAME, folder)):\n",
    "        video_path = os.path.join(DATA_DIR, VIDEO_DIR_NAME, folder, video)\n",
    "        unique_video_name = os.path.join(folder, video)\n",
    "        videos_to_preprocess.append({\n",
    "            'unique_video_name': unique_video_name,\n",
    "            'video_path': video_path,\n",
    "        })\n",
    "\n",
    "print(f\"Videos to preprocess: {len(videos_to_preprocess)}\\n\")\n",
    "\n",
    "first_video = videos_to_preprocess[0]\n",
    "print(f\"First video: {json.dumps(first_video, indent=2)}\")"
   ]
  },
  {
   "cell_type": "code",
   "execution_count": null,
   "metadata": {},
   "outputs": [],
   "source": [
    "for video in (pbar := tqdm(videos_to_preprocess)):\n",
    "    pbar.set_description(f\"Preprocessing {video['unique_video_name']}\")\n",
    "    rag.preprocess_video(video['unique_video_name'], video['video_path'])"
   ]
  },
  {
   "cell_type": "code",
   "execution_count": null,
   "metadata": {},
   "outputs": [],
   "source": []
  }
 ],
 "metadata": {
  "kernelspec": {
   "display_name": ".venv",
   "language": "python",
   "name": "python3"
  },
  "language_info": {
   "codemirror_mode": {
    "name": "ipython",
    "version": 3
   },
   "file_extension": ".py",
   "mimetype": "text/x-python",
   "name": "python",
   "nbconvert_exporter": "python",
   "pygments_lexer": "ipython3",
   "version": "3.11.2"
  }
 },
 "nbformat": 4,
 "nbformat_minor": 2
}
