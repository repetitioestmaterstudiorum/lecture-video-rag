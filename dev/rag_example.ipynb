{
 "cells": [
  {
   "cell_type": "code",
   "execution_count": 1,
   "metadata": {},
   "outputs": [
    {
     "name": "stdout",
     "output_type": "stream",
     "text": [
      "GPU detected: mps\n"
     ]
    }
   ],
   "source": [
    "import os\n",
    "import wget\n",
    "import gradio as gr\n",
    "\n",
    "# To recognize src as a package\n",
    "import sys\n",
    "sys.path.append(os.path.abspath('../src'))\n",
    "from RAG.system import RAGSystem\n",
    "\n",
    "from hyperparameters import light\n",
    "from dotenv import load_dotenv\n",
    "from tqdm import tqdm"
   ]
  },
  {
   "cell_type": "code",
   "execution_count": 2,
   "metadata": {},
   "outputs": [],
   "source": [
    "load_dotenv()\n",
    "DATA_DIR = os.getenv(\"DATA_DIR\")\n",
    "assert DATA_DIR is not None, \"Define DATA_DIR in .env file!\""
   ]
  },
  {
   "cell_type": "code",
   "execution_count": 3,
   "metadata": {},
   "outputs": [],
   "source": [
    "custom_hyper = {\n",
    "    **light,\n",
    "    'generator_llm_model_name': 'Mistral 7B CapybaraHermes-2.5 Q4_K_M'\n",
    "}"
   ]
  },
  {
   "cell_type": "code",
   "execution_count": 4,
   "metadata": {},
   "outputs": [
    {
     "name": "stdout",
     "output_type": "stream",
     "text": [
      "Seed value set: 17\n",
      "Collection name: lecture-videos-M4mtwJE_M8Ru4jtEgoGa-sx1hr11b3xtx4SYVtECaFM\n"
     ]
    },
    {
     "name": "stderr",
     "output_type": "stream",
     "text": [
      "<All keys matched successfully>\n"
     ]
    },
    {
     "name": "stdout",
     "output_type": "stream",
     "text": [
      "Initalized embedding model: nomic-ai/nomic-embed-text-v1\n",
      "Initializing ASR and OCR cache...\n"
     ]
    }
   ],
   "source": [
    "rag = RAGSystem(\n",
    "    hypers=custom_hyper,\n",
    "    data_dir=DATA_DIR,\n",
    "    random_seed=17,\n",
    ")"
   ]
  },
  {
   "cell_type": "code",
   "execution_count": 5,
   "metadata": {},
   "outputs": [],
   "source": [
    "videos_to_download = [\n",
    "    {\n",
    "        'url': 'http://www.archive.org/download/MIT9.00SCF11/MIT9_00SCF11_lec01_300k.mp4',\n",
    "        'directory': 'MIT9.00SCF11',\n",
    "        'filename': '01 - Lec 1 _ MIT 9.00SC Introduction to Psychology, Spring 2011.mp4'\n",
    "    },\n",
    "    {\n",
    "        'url': 'http://www.archive.org/download/MIT9.00SCF11/MIT9_00SCF11_lec02_300k.mp4',\n",
    "        'directory': 'MIT9.00SCF11',\n",
    "        'filename': '02 - Lec 2 _ MIT 9.00SC Introduction to Psychology, Spring 2011.mp4'\n",
    "    },\n",
    "    {\n",
    "        'url': 'http://www.archive.org/download/MIT9.00SCF11/MIT9_00SCF11_lec03_300k.mp4',\n",
    "        'directory': 'MIT9.00SCF11',\n",
    "        'filename': '03 - Lec 3 _ MIT 9.00SC Introduction to Psychology, Spring 2011.mp4'\n",
    "    },\n",
    "    {\n",
    "        'url': 'http://www.archive.org/download/MIT9.00SCF11/MIT9_00SCF11_lec04_300k.mp4',\n",
    "        'directory': 'MIT9.00SCF11',\n",
    "        'filename': '04 - Lec 4 _ MIT 9.00SC Introduction to Psychology, Spring 2011.mp4'\n",
    "    },\n",
    "    {\n",
    "        'url': 'http://www.archive.org/download/MIT9.00SCF11/MIT9_00SCF11_lec05_300k.mp4',\n",
    "        'directory': 'MIT9.00SCF11',\n",
    "        'filename': '05 - Lec 5 _ MIT 9.00SC Introduction to Psychology, Spring 2011.mp4'\n",
    "    },\n",
    "    {\n",
    "        'url': 'http://www.archive.org/download/MIT9.00SCF11/MIT9_00SCF11_lec06_300k.mp4',\n",
    "        'directory': 'MIT9.00SCF11',\n",
    "        'filename': '06 - Lec 6 _ MIT 9.00SC Introduction to Psychology, Spring 2011.mp4'\n",
    "    },\n",
    "    {\n",
    "        'url': 'http://www.archive.org/download/MIT9.00SCF11/MIT9_00SCF11_lec07_300k.mp4',\n",
    "        'directory': 'MIT9.00SCF11',\n",
    "        'filename': '07 - Lec 7 _ MIT 9.00SC Introduction to Psychology, Spring 2011.mp4'\n",
    "    },\n",
    "    {\n",
    "        'url': 'http://www.archive.org/download/MIT9.00SCF11/MIT9_00SCF11_lec08_300k.mp4',\n",
    "        'directory': 'MIT9.00SCF11',\n",
    "        'filename': '08 - Lec 8 _ MIT 9.00SC Introduction to Psychology, Spring 2011.mp4'\n",
    "    },\n",
    "    {\n",
    "        'url': 'http://www.archive.org/download/MIT9.00SCF11/MIT9_00SCF11_lec09_300k.mp4',\n",
    "        'directory': 'MIT9.00SCF11',\n",
    "        'filename': '09 - Lec 9 _ MIT 9.00SC Introduction to Psychology, Spring 2011.mp4'\n",
    "    },\n",
    "    {\n",
    "        'url': 'http://www.archive.org/download/MIT9.00SCF11/MIT9_00SCF11_lec10_300k.mp4',\n",
    "        'directory': 'MIT9.00SCF11',\n",
    "        'filename': '10 - Lec 10 _ MIT 9.00SC Introduction to Psychology, Spring 2011.mp4'\n",
    "    },\n",
    "    {\n",
    "        'url': 'http://www.archive.org/download/MIT9.00SCF11/MIT9_00SCF11_lec11_300k.mp4',\n",
    "        'directory': 'MIT9.00SCF11',\n",
    "        'filename': '11 - Lec 11 _ MIT 9.00SC Introduction to Psychology, Spring 2011.mp4'\n",
    "    },\n",
    "    {\n",
    "        'url': 'http://www.archive.org/download/MIT9.00SCF11/MIT9_00SCF11_lec12_300k.mp4',\n",
    "        'directory': 'MIT9.00SCF11',\n",
    "        'filename': '12 - Lec 12 _ MIT 9.00SC Introduction to Psychology, Spring 2011.mp4'\n",
    "    },\n",
    "    {\n",
    "        'url': 'http://www.archive.org/download/MIT9.00SCF11/MIT9_00SCF11_lec13_300k.mp4',\n",
    "        'directory': 'MIT9.00SCF11',\n",
    "        'filename': '13 - Lec 13 _ MIT 9.00SC Introduction to Psychology, Spring 2011.mp4'\n",
    "    },\n",
    "    {\n",
    "        'url': 'http://www.archive.org/download/MIT9.00SCF11/MIT9_00SCF11_lec14_300k.mp4',\n",
    "        'directory': 'MIT9.00SCF11',\n",
    "        'filename': '14 - Lec 14 _ MIT 9.00SC Introduction to Psychology, Spring 2011.mp4'\n",
    "    },\n",
    "    {\n",
    "        'url': 'http://www.archive.org/download/MIT9.00SCF11/MIT9_00SCF11_lec15_300k.mp4',\n",
    "        'directory': 'MIT9.00SCF11',\n",
    "        'filename': '15 - Lec 15 _ MIT 9.00SC Introduction to Psychology, Spring 2011.mp4'\n",
    "    },\n",
    "    {\n",
    "        'url': 'http://www.archive.org/download/MIT9.00SCF11/MIT9_00SCF11_lec16_300k.mp4',\n",
    "        'directory': 'MIT9.00SCF11',\n",
    "        'filename': '16 - Lec 16 _ MIT 9.00SC Introduction to Psychology, Spring 2011.mp4'\n",
    "    },\n",
    "    {\n",
    "        'url': 'http://www.archive.org/download/MIT9.00SCF11/MIT9_00SCF11_lec17_300k.mp4',\n",
    "        'directory': 'MIT9.00SCF11',\n",
    "        'filename': '17 - Lec 17 _ MIT 9.00SC Introduction to Psychology, Spring 2011.mp4'\n",
    "    },\n",
    "    {\n",
    "        'url': 'http://www.archive.org/download/MIT9.00SCF11/MIT9_00SCF11_lec18_300k.mp4',\n",
    "        'directory': 'MIT9.00SCF11',\n",
    "        'filename': '18 - Lec 18 _ MIT 9.00SC Introduction to Psychology, Spring 2011.mp4'\n",
    "    },\n",
    "    {\n",
    "        'url': 'http://www.archive.org/download/MIT9.00SCF11/MIT9_00SCF11_lec19_300k.mp4',\n",
    "        'directory': 'MIT9.00SCF11',\n",
    "        'filename': '19 - Lec 19 _ MIT 9.00SC Introduction to Psychology, Spring 2011.mp4'\n",
    "    },\n",
    "    {\n",
    "        'url': 'http://www.archive.org/download/MIT9.00SCF11/MIT9_00SCF11_lec20_300k.mp4',\n",
    "        'directory': 'MIT9.00SCF11',\n",
    "        'filename': '20 - Lec 20 _ MIT 9.00SC Introduction to Psychology, Spring 2011.mp4'\n",
    "    },\n",
    "    {\n",
    "        'url': 'http://www.archive.org/download/MIT9.00SCF11/MIT9_00SCF11_lec21_300k.mp4',\n",
    "        'directory': 'MIT9.00SCF11',\n",
    "        'filename': '21 - Lec 21 _ MIT 9.00SC Introduction to Psychology, Spring 2011.mp4'\n",
    "    },\n",
    "    {\n",
    "        'url': 'http://www.archive.org/download/MIT9.00SCF11/MIT9_00SCF11_lec22_300k.mp4',\n",
    "        'directory': 'MIT9.00SCF11',\n",
    "        'filename': '22 - Lec 22 _ MIT 9.00SC Introduction to Psychology, Spring 2011.mp4'\n",
    "    },\n",
    "    {\n",
    "        'url': 'http://www.archive.org/download/MIT9.00SCF11/MIT9_00SCF11_lec23_300k.mp4',\n",
    "        'directory': 'MIT9.00SCF11',\n",
    "        'filename': '23 - Lec 23 _ MIT 9.00SC Introduction to Psychology, Spring 2011.mp4'\n",
    "    },\n",
    "    {\n",
    "        'url': 'http://www.archive.org/download/MIT9.00SCF11/MIT9_00SCF11_lec24_300k.mp4',\n",
    "        'directory': 'MIT9.00SCF11',\n",
    "        'filename': '24 - Lec 24 _ MIT 9.00SC Introduction to Psychology, Spring 2011.mp4'\n",
    "    },\n",
    "]"
   ]
  },
  {
   "cell_type": "code",
   "execution_count": 6,
   "metadata": {},
   "outputs": [],
   "source": [
    "VIDEO_DIR_NAME = 'videos'"
   ]
  },
  {
   "cell_type": "code",
   "execution_count": 7,
   "metadata": {},
   "outputs": [
    {
     "name": "stderr",
     "output_type": "stream",
     "text": [
      "100%|██████████| 24/24 [00:00<00:00, 26701.14it/s]\n"
     ]
    }
   ],
   "source": [
    "for video in (pbar := tqdm(videos_to_download)):\n",
    "    video_folder = os.path.join(DATA_DIR, VIDEO_DIR_NAME, video['directory'])\n",
    "    if not os.path.exists(video_folder):\n",
    "        os.makedirs(video_folder)\n",
    "    \n",
    "    if not os.path.exists(os.path.join(video_folder, video['filename'])):\n",
    "        pbar.set_description(f\"Downloading {video['filename']} to {video_folder}\")\n",
    "        wget.download(video['url'], out=os.path.join(video_folder, video['filename']))"
   ]
  },
  {
   "cell_type": "code",
   "execution_count": 8,
   "metadata": {},
   "outputs": [
    {
     "name": "stdout",
     "output_type": "stream",
     "text": [
      "Videos to preprocess: 84\n",
      "\n"
     ]
    }
   ],
   "source": [
    "videos_to_preprocess = list()\n",
    "for folder in os.listdir(os.path.join(DATA_DIR, VIDEO_DIR_NAME)):\n",
    "    if not os.path.isdir(os.path.join(DATA_DIR, VIDEO_DIR_NAME, folder)):\n",
    "        continue\n",
    "\n",
    "    for video in os.listdir(os.path.join(DATA_DIR, VIDEO_DIR_NAME, folder)):\n",
    "        if not video.endswith('.mp4'):\n",
    "            continue\n",
    "        \n",
    "        video_path = os.path.join(DATA_DIR, VIDEO_DIR_NAME, folder, video)\n",
    "        unique_video_name = os.path.join(folder, video)\n",
    "        videos_to_preprocess.append({\n",
    "            'unique_video_name': unique_video_name,\n",
    "            'video_path': video_path,\n",
    "        })\n",
    "\n",
    "print(f\"Videos to preprocess: {len(videos_to_preprocess)}\\n\")"
   ]
  },
  {
   "cell_type": "code",
   "execution_count": 9,
   "metadata": {},
   "outputs": [
    {
     "name": "stderr",
     "output_type": "stream",
     "text": [
      "Preprocessing MIT9.00SCF11/21 - Lec 21 _ MIT 9.00SC Introduction to Psychology, Spring 2011.mp4: 100%|██████████| 84/84 [00:00<00:00, 241.56it/s]                       \n"
     ]
    }
   ],
   "source": [
    "for video in (pbar := tqdm(videos_to_preprocess)):\n",
    "    pbar.set_description(f\"Preprocessing {video['unique_video_name']}\")\n",
    "    rag.preprocess_video(video['unique_video_name'], video['video_path'])"
   ]
  },
  {
   "cell_type": "code",
   "execution_count": 10,
   "metadata": {},
   "outputs": [
    {
     "name": "stdout",
     "output_type": "stream",
     "text": [
      "Running on local URL:  http://127.0.0.1:7860\n",
      "\n",
      "To create a public link, set `share=True` in `launch()`.\n"
     ]
    },
    {
     "data": {
      "text/plain": []
     },
     "execution_count": 10,
     "metadata": {},
     "output_type": "execute_result"
    }
   ],
   "source": [
    "def call_rag(question, force_answer=False, distance_threshold=0.5):\n",
    "    response = \"\"\n",
    "    for token in rag.ask(\n",
    "        question=question,\n",
    "        force_answer=force_answer,\n",
    "        distance_threshold=distance_threshold,\n",
    "        stream=True,\n",
    "        context_detail_top_k=3,\n",
    "    ):\n",
    "        response += token\n",
    "        yield response\n",
    "\n",
    "gr.Interface(\n",
    "    fn=call_rag,\n",
    "    inputs=[\n",
    "        gr.Textbox(lines=2, placeholder=\"Type your question here...\", autofocus=True, label=\"Question\"),\n",
    "        gr.Checkbox(label=\"Force Answer\"),\n",
    "        gr.Number(value=0.5, label=\"Distance Threshold\")\n",
    "    ],\n",
    "    outputs=[\n",
    "        gr.Textbox(lines=10, label=\"Answer\")\n",
    "    ],\n",
    "    title=\"Lecture Video Question Answering using Retrieval-Augmented Generation\",\n",
    "    allow_flagging='never',\n",
    "    examples=[\n",
    "        [\"Who was Freud?\", False, 0.5],\n",
    "        [\"\"\"Experiments have shown that which manipulations can enhance one's feelings or positive actions towards another person?\n",
    "A) holding a warm drink relative to a cold drink just before evaluating another person\n",
    "B) not thinking about money\n",
    "C) rotating from table to table at a speed dating event\n",
    "D) all of the above\"\"\", False, 0.5],\n",
    "        [\"\"\"The number of items that can be held in short-term memory is typically conceptualized as:\n",
    "A) 3 plus or minus 2\n",
    "B) 5 plus or minus 2\n",
    "C) 7 plus or minus 2\n",
    "D) 9 plus or minus 2\"\"\", False, 0.5],\n",
    "        [\"What is thermodynamics?\", False, 0.5],\n",
    "        [\"What is Ovomaltine?\", False, 0.5],\n",
    "    ],\n",
    ").launch(\n",
    "    share=False,\n",
    "    inline=False,\n",
    ")"
   ]
  },
  {
   "cell_type": "code",
   "execution_count": null,
   "metadata": {},
   "outputs": [],
   "source": [
    "# from qa_datasets import tuning_dataset\n",
    "# import json\n",
    "\n",
    "# psychology_course_questions = list(filter(lambda qa: qa['course'] ==\n",
    "#                                           'MIT 9.00SC Introduction to Psychology, Fall 2011', tuning_dataset))\n",
    "\n",
    "# print(f\"Psychology course questions: {len(psychology_course_questions)}\\n\")\n",
    "# question = psychology_course_questions[4]\n",
    "# print(f\"First question: {json.dumps(question, indent=2)}\")\n",
    "\n",
    "# for question in psychology_course_questions:\n",
    "#     print(f\"Question: {question['question']}\\n\")\n",
    "#     print(f\"Ground truth: {question['ground_truth']}\\n\")\n",
    "#     for token in rag.ask(question['question'], stream=True):\n",
    "#         print(token, end='', flush=True)\n",
    "#     print(\"\\n\" + \"-\" * 100 + \"\\n\")"
   ]
  },
  {
   "cell_type": "code",
   "execution_count": null,
   "metadata": {},
   "outputs": [],
   "source": []
  }
 ],
 "metadata": {
  "kernelspec": {
   "display_name": ".venv",
   "language": "python",
   "name": "python3"
  },
  "language_info": {
   "codemirror_mode": {
    "name": "ipython",
    "version": 3
   },
   "file_extension": ".py",
   "mimetype": "text/x-python",
   "name": "python",
   "nbconvert_exporter": "python",
   "pygments_lexer": "ipython3",
   "version": "3.11.9"
  }
 },
 "nbformat": 4,
 "nbformat_minor": 2
}
