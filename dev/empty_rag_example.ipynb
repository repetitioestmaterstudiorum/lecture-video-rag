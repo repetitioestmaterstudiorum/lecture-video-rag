{
 "cells": [
  {
   "cell_type": "code",
   "execution_count": null,
   "metadata": {},
   "outputs": [],
   "source": [
    "import os\n",
    "import wget\n",
    "import json\n",
    "from RAG.system import RAGSystem\n",
    "from hyperparameters import merge, best\n",
    "from dotenv import load_dotenv\n",
    "from qa_datasets import tuning_dataset\n",
    "from tqdm import tqdm"
   ]
  },
  {
   "cell_type": "code",
   "execution_count": null,
   "metadata": {},
   "outputs": [],
   "source": [
    "load_dotenv()\n",
    "DATA_DIR = os.getenv(\"DATA_DIR\")\n",
    "assert DATA_DIR is not None, \"Define DATA_DIR in .env file!\""
   ]
  },
  {
   "cell_type": "code",
   "execution_count": null,
   "metadata": {},
   "outputs": [],
   "source": [
    "rag = RAGSystem(\n",
    "    hypers=best,\n",
    "    data_dir=DATA_DIR,\n",
    "    random_seed=17,\n",
    ")"
   ]
  },
  {
   "cell_type": "code",
   "execution_count": null,
   "metadata": {},
   "outputs": [],
   "source": [
    "psychology_course_questions = list(filter(lambda qa: qa['course'] ==\n",
    "     'MIT 9.00SC Introduction to Psychology, Fall 2011', tuning_dataset))\n",
    "\n",
    "print(f\"Psychology course questions: {len(psychology_course_questions)}\\n\")\n",
    "question = psychology_course_questions[4]\n",
    "print(f\"First question: {json.dumps(question, indent=2)}\")"
   ]
  },
  {
   "cell_type": "code",
   "execution_count": null,
   "metadata": {},
   "outputs": [],
   "source": [
    "rag.ask(question['question'])"
   ]
  },
  {
   "cell_type": "code",
   "execution_count": null,
   "metadata": {},
   "outputs": [],
   "source": [
    "rag.ask(question['question'], force_answer=True)"
   ]
  },
  {
   "cell_type": "code",
   "execution_count": null,
   "metadata": {},
   "outputs": [],
   "source": []
  }
 ],
 "metadata": {
  "kernelspec": {
   "display_name": ".venv",
   "language": "python",
   "name": "python3"
  },
  "language_info": {
   "codemirror_mode": {
    "name": "ipython",
    "version": 3
   },
   "file_extension": ".py",
   "mimetype": "text/x-python",
   "name": "python",
   "nbconvert_exporter": "python",
   "pygments_lexer": "ipython3",
   "version": "3.11.2"
  }
 },
 "nbformat": 4,
 "nbformat_minor": 2
}
